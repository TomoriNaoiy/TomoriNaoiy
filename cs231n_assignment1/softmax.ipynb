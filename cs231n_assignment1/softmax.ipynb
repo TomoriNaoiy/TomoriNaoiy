{
  "cells": [
    {
      "cell_type": "code",
      "execution_count": 16,
      "id": "d8aaae81",
      "metadata": {
        "id": "d8aaae81",
        "colab": {
          "base_uri": "https://localhost:8080/"
        },
        "outputId": "3932b87f-77c4-4586-bd3a-9125b6086994"
      },
      "outputs": [
        {
          "output_type": "stream",
          "name": "stdout",
          "text": [
            "Drive already mounted at /content/drive; to attempt to forcibly remount, call drive.mount(\"/content/drive\", force_remount=True).\n",
            "/content/drive/My Drive/Colab Notebooks/assignment1/cs231n/datasets\n",
            "/content/drive/My Drive/Colab Notebooks/assignment1\n"
          ]
        }
      ],
      "source": [
        "# This mounts your Google Drive to the Colab VM.\n",
        "from google.colab import drive\n",
        "drive.mount('/content/drive')\n",
        "\n",
        "# TODO: Enter the foldername in your Drive where you have saved the unzipped\n",
        "# assignment folder, e.g. 'cs231n/assignments/assignment1/'\n",
        "FOLDERNAME = 'Colab Notebooks/assignment1/'\n",
        "assert FOLDERNAME is not None, \"[!] Enter the foldername.\"\n",
        "\n",
        "# Now that we've mounted your Drive, this ensures that\n",
        "# the Python interpreter of the Colab VM can load\n",
        "# python files from within it.\n",
        "import sys\n",
        "sys.path.append('/content/drive/My Drive/{}'.format(FOLDERNAME))\n",
        "\n",
        "# This downloads the CIFAR-10 dataset to your Drive\n",
        "# if it doesn't already exist.\n",
        "%cd /content/drive/My\\ Drive/$FOLDERNAME/cs231n/datasets/\n",
        "!bash get_datasets.sh\n",
        "%cd /content/drive/My\\ Drive/$FOLDERNAME"
      ]
    },
    {
      "cell_type": "markdown",
      "id": "e2c3cfa1",
      "metadata": {
        "tags": [
          "pdf-title"
        ],
        "id": "e2c3cfa1"
      },
      "source": [
        "# Softmax exercise\n",
        "\n",
        "*Complete and hand in this completed worksheet (including its outputs and any supporting code outside of the worksheet) with your assignment submission. For more details see the [assignments page](http://vision.stanford.edu/teaching/cs231n/assignments.html) on the course website.*\n",
        "\n",
        "This exercise is analogous to the SVM exercise. You will:\n",
        "\n",
        "- implement a fully-vectorized **loss function** for the Softmax classifier\n",
        "- implement the fully-vectorized expression for its **analytic gradient**\n",
        "- **check your implementation** with numerical gradient\n",
        "- use a validation set to **tune the learning rate and regularization** strength\n",
        "- **optimize** the loss function with **SGD**\n",
        "- **visualize** the final learned weights\n",
        "\n",
        "填写并提交此已完成的工作表（包括其输出和工作表外的任何支持代码）以及您的作业提交。有关更多详细信息，请参阅课程网站上的作业页面。\n",
        "\n",
        "这个练习类似于SVM练习。你会：\n",
        "\n",
        "为Softmax分类器实现一个完全矢量化的损失函数\n",
        "实现其解析梯度的完全矢量化表达式\n",
        "用数值梯度检查你的实现\n",
        "使用验证集来调整学习率和正则化强度\n",
        "用SGD优化损失函数\n",
        "可视化最终学习到的权重"
      ]
    },
    {
      "cell_type": "code",
      "execution_count": 17,
      "id": "c55a72bf",
      "metadata": {
        "tags": [
          "pdf-ignore"
        ],
        "id": "c55a72bf",
        "colab": {
          "base_uri": "https://localhost:8080/"
        },
        "outputId": "5e8c0e78-4bcf-4ebd-ee68-16c4d2df298b"
      },
      "outputs": [
        {
          "output_type": "stream",
          "name": "stdout",
          "text": [
            "The autoreload extension is already loaded. To reload it, use:\n",
            "  %reload_ext autoreload\n"
          ]
        }
      ],
      "source": [
        "import random\n",
        "import numpy as np\n",
        "from cs231n.data_utils import load_CIFAR10\n",
        "import matplotlib.pyplot as plt\n",
        "\n",
        "%matplotlib inline\n",
        "plt.rcParams['figure.figsize'] = (10.0, 8.0) # set default size of plots\n",
        "plt.rcParams['image.interpolation'] = 'nearest'\n",
        "plt.rcParams['image.cmap'] = 'gray'\n",
        "\n",
        "# for auto-reloading extenrnal modules\n",
        "# see http://stackoverflow.com/questions/1907993/autoreload-of-modules-in-ipython\n",
        "%load_ext autoreload\n",
        "%autoreload 2"
      ]
    },
    {
      "cell_type": "code",
      "execution_count": 18,
      "id": "b99594ec",
      "metadata": {
        "tags": [
          "pdf-ignore"
        ],
        "id": "b99594ec",
        "colab": {
          "base_uri": "https://localhost:8080/"
        },
        "outputId": "a7f9027e-f5ed-4a94-f822-93a4ba8bc557"
      },
      "outputs": [
        {
          "output_type": "stream",
          "name": "stdout",
          "text": [
            "Train data shape:  (49000, 3073)\n",
            "Train labels shape:  (49000,)\n",
            "Validation data shape:  (1000, 3073)\n",
            "Validation labels shape:  (1000,)\n",
            "Test data shape:  (1000, 3073)\n",
            "Test labels shape:  (1000,)\n",
            "dev data shape:  (500, 3073)\n",
            "dev labels shape:  (500,)\n"
          ]
        }
      ],
      "source": [
        "def get_CIFAR10_data(num_training=49000, num_validation=1000, num_test=1000, num_dev=500):\n",
        "    \"\"\"\n",
        "    Load the CIFAR-10 dataset from disk and perform preprocessing to prepare\n",
        "    it for the linear classifier. These are the same steps as we used for the\n",
        "    SVM, but condensed to a single function.\n",
        "    \"\"\"\n",
        "    # Load the raw CIFAR-10 data\n",
        "    cifar10_dir = 'cs231n/datasets/cifar-10-batches-py'\n",
        "\n",
        "    # Cleaning up variables to prevent loading data multiple times (which may cause memory issue)\n",
        "    try:\n",
        "       del X_train, y_train\n",
        "       del X_test, y_test\n",
        "       print('Clear previously loaded data.')\n",
        "    except:\n",
        "       pass\n",
        "\n",
        "    X_train, y_train, X_test, y_test = load_CIFAR10(cifar10_dir)\n",
        "\n",
        "    # subsample the data\n",
        "    mask = list(range(num_training, num_training + num_validation))\n",
        "    X_val = X_train[mask]\n",
        "    y_val = y_train[mask]\n",
        "    mask = list(range(num_training))\n",
        "    X_train = X_train[mask]\n",
        "    y_train = y_train[mask]\n",
        "    mask = list(range(num_test))\n",
        "    X_test = X_test[mask]\n",
        "    y_test = y_test[mask]\n",
        "    mask = np.random.choice(num_training, num_dev, replace=False)\n",
        "    X_dev = X_train[mask]\n",
        "    y_dev = y_train[mask]\n",
        "\n",
        "    # Preprocessing: reshape the image data into rows\n",
        "    X_train = np.reshape(X_train, (X_train.shape[0], -1))\n",
        "    X_val = np.reshape(X_val, (X_val.shape[0], -1))\n",
        "    X_test = np.reshape(X_test, (X_test.shape[0], -1))\n",
        "    X_dev = np.reshape(X_dev, (X_dev.shape[0], -1))\n",
        "\n",
        "    # Normalize the data: subtract the mean image\n",
        "    mean_image = np.mean(X_train, axis = 0)\n",
        "    X_train -= mean_image\n",
        "    X_val -= mean_image\n",
        "    X_test -= mean_image\n",
        "    X_dev -= mean_image\n",
        "\n",
        "    # add bias dimension and transform into columns\n",
        "    X_train = np.hstack([X_train, np.ones((X_train.shape[0], 1))])\n",
        "    X_val = np.hstack([X_val, np.ones((X_val.shape[0], 1))])\n",
        "    X_test = np.hstack([X_test, np.ones((X_test.shape[0], 1))])\n",
        "    X_dev = np.hstack([X_dev, np.ones((X_dev.shape[0], 1))])\n",
        "\n",
        "    return X_train, y_train, X_val, y_val, X_test, y_test, X_dev, y_dev\n",
        "\n",
        "\n",
        "# Invoke the above function to get our data.\n",
        "X_train, y_train, X_val, y_val, X_test, y_test, X_dev, y_dev = get_CIFAR10_data()\n",
        "print('Train data shape: ', X_train.shape)\n",
        "print('Train labels shape: ', y_train.shape)\n",
        "print('Validation data shape: ', X_val.shape)\n",
        "print('Validation labels shape: ', y_val.shape)\n",
        "print('Test data shape: ', X_test.shape)\n",
        "print('Test labels shape: ', y_test.shape)\n",
        "print('dev data shape: ', X_dev.shape)\n",
        "print('dev labels shape: ', y_dev.shape)"
      ]
    },
    {
      "cell_type": "markdown",
      "id": "2713b7f4",
      "metadata": {
        "id": "2713b7f4"
      },
      "source": [
        "## Softmax Classifier\n",
        "\n",
        "Your code for this section will all be written inside `cs231n/classifiers/softmax.py`.\n"
      ]
    },
    {
      "cell_type": "code",
      "execution_count": 19,
      "id": "6168f67e",
      "metadata": {
        "id": "6168f67e",
        "colab": {
          "base_uri": "https://localhost:8080/"
        },
        "outputId": "438590c3-09c6-403b-969b-92600d17fd10"
      },
      "outputs": [
        {
          "output_type": "stream",
          "name": "stdout",
          "text": [
            "loss: 2.368380\n",
            "sanity check: 2.302585\n"
          ]
        }
      ],
      "source": [
        "# First implement the naive softmax loss function with nested loops.\n",
        "# Open the file cs231n/classifiers/softmax.py and implement the\n",
        "# softmax_loss_naive function.\n",
        "\n",
        "from cs231n.classifiers.softmax import softmax_loss_naive\n",
        "import time\n",
        "\n",
        "# Generate a random softmax weight matrix and use it to compute the loss.\n",
        "W = np.random.randn(3073, 10) * 0.0001\n",
        "loss, grad = softmax_loss_naive(W, X_dev, y_dev, 0.0)\n",
        "\n",
        "# As a rough sanity check, our loss should be something close to -log(0.1).\n",
        "print('loss: %f' % loss)\n",
        "print('sanity check: %f' % (-np.log(0.1)))"
      ]
    },
    {
      "cell_type": "markdown",
      "id": "b35bc604",
      "metadata": {
        "tags": [
          "pdf-inline"
        ],
        "id": "b35bc604"
      },
      "source": [
        "**Inline Question 1**\n",
        "\n",
        "Why do we expect our loss to be close to -log(0.1)? Explain briefly.**\n",
        "\n",
        "$\\color{blue}{\\textit Your Answer:}$ *Fill this in*\n",
        "\n",
        "为什么我们预计损失接近-log（0.1）？简要解释一下**\n",
        "\n",
        "因为有10个对象的类别，只有一个是真的，这意味着损失应该是log(10)\n",
        "."
      ]
    },
    {
      "cell_type": "code",
      "execution_count": 20,
      "id": "b7bef674",
      "metadata": {
        "id": "b7bef674",
        "colab": {
          "base_uri": "https://localhost:8080/"
        },
        "outputId": "3581676f-f30b-46fe-c614-3bd5578163f2"
      },
      "outputs": [
        {
          "output_type": "stream",
          "name": "stdout",
          "text": [
            "numerical: 0.630842 analytic: 0.630842, relative error: 2.784493e-08\n",
            "numerical: 0.594517 analytic: 0.594517, relative error: 2.398643e-09\n",
            "numerical: -1.538736 analytic: -1.538736, relative error: 6.941076e-09\n",
            "numerical: 0.282860 analytic: 0.282860, relative error: 2.277605e-07\n",
            "numerical: -0.171572 analytic: -0.171572, relative error: 1.060863e-07\n",
            "numerical: -0.906844 analytic: -0.906844, relative error: 5.490310e-08\n",
            "numerical: 2.064861 analytic: 2.064861, relative error: 1.528199e-08\n",
            "numerical: 1.091309 analytic: 1.091309, relative error: 1.235735e-08\n",
            "numerical: -5.041241 analytic: -5.041241, relative error: 1.482281e-08\n",
            "numerical: -2.839279 analytic: -2.839279, relative error: 8.808801e-09\n",
            "numerical: -1.331321 analytic: -1.327595, relative error: 1.401455e-03\n",
            "numerical: -5.107538 analytic: -5.115479, relative error: 7.767348e-04\n",
            "numerical: -0.417032 analytic: -0.412875, relative error: 5.009434e-03\n",
            "numerical: -0.133717 analytic: -0.132913, relative error: 3.017593e-03\n",
            "numerical: 0.224667 analytic: 0.217092, relative error: 1.714543e-02\n",
            "numerical: 1.551046 analytic: 1.552030, relative error: 3.173042e-04\n",
            "numerical: -0.107739 analytic: -0.115314, relative error: 3.396115e-02\n",
            "numerical: 1.968014 analytic: 1.965105, relative error: 7.395697e-04\n",
            "numerical: -1.968088 analytic: -1.975807, relative error: 1.957070e-03\n",
            "numerical: 0.426681 analytic: 0.427903, relative error: 1.429712e-03\n"
          ]
        }
      ],
      "source": [
        "# Complete the implementation of softmax_loss_naive and implement a (naive)\n",
        "# version of the gradient that uses nested loops.\n",
        "loss, grad = softmax_loss_naive(W, X_dev, y_dev, 0.0)\n",
        "\n",
        "# As we did for the SVM, use numeric gradient checking as a debugging tool.\n",
        "# The numeric gradient should be close to the analytic gradient.\n",
        "from cs231n.gradient_check import grad_check_sparse\n",
        "f = lambda w: softmax_loss_naive(w, X_dev, y_dev, 0.0)[0]\n",
        "grad_numerical = grad_check_sparse(f, W, grad, 10)\n",
        "\n",
        "# similar to SVM case, do another gradient check with regularization\n",
        "loss, grad = softmax_loss_naive(W, X_dev, y_dev, 5e1)\n",
        "f = lambda w: softmax_loss_naive(w, X_dev, y_dev, 5e1)[0]\n",
        "grad_numerical = grad_check_sparse(f, W, grad, 10)"
      ]
    },
    {
      "cell_type": "code",
      "execution_count": 25,
      "id": "3994f8a3",
      "metadata": {
        "id": "3994f8a3",
        "colab": {
          "base_uri": "https://localhost:8080/"
        },
        "outputId": "e9a0a878-bf3b-44b5-b66e-b43a778a697f"
      },
      "outputs": [
        {
          "output_type": "stream",
          "name": "stdout",
          "text": [
            "naive loss: 2.368380e+00 computed in 0.369165s\n",
            "vectorized loss: 2.368380e+00 computed in 0.027023s\n",
            "Loss difference: 0.000000\n",
            "Gradient difference: 0.000000\n"
          ]
        }
      ],
      "source": [
        "# Now that we have a naive implementation of the softmax loss function and its gradient,\n",
        "# implement a vectorized version in softmax_loss_vectorized.\n",
        "# The two versions should compute the same results, but the vectorized version should be\n",
        "# much faster.\n",
        "#现在我们有了softmax损失函数及其梯度的简单实现，\n",
        "#在softmax_loss_vectorized中实现矢量化版本。\n",
        "#两个版本应计算相同的结果，但矢量化版本应\n",
        "#更快。\n",
        "tic = time.time()\n",
        "loss_naive, grad_naive = softmax_loss_naive(W, X_dev, y_dev, 0.000005)\n",
        "toc = time.time()\n",
        "print('naive loss: %e computed in %fs' % (loss_naive, toc - tic))\n",
        "\n",
        "from cs231n.classifiers.softmax import softmax_loss_vectorized\n",
        "tic = time.time()\n",
        "loss_vectorized, grad_vectorized = softmax_loss_vectorized(W, X_dev, y_dev, 0.000005)\n",
        "toc = time.time()\n",
        "print('vectorized loss: %e computed in %fs' % (loss_vectorized, toc - tic))\n",
        "\n",
        "# As we did for the SVM, we use the Frobenius norm to compare the two versions\n",
        "# of the gradient.\n",
        "#正如我们对SVM所做的那样，我们使用Frobenius范数来比较这两个版本\n",
        "#梯度。\n",
        "grad_difference = np.linalg.norm(grad_naive - grad_vectorized, ord='fro')\n",
        "print('Loss difference: %f' % np.abs(loss_naive - loss_vectorized))\n",
        "print('Gradient difference: %f' % grad_difference)"
      ]
    },
    {
      "cell_type": "code",
      "execution_count": 28,
      "id": "bd171311",
      "metadata": {
        "tags": [
          "code"
        ],
        "test": "tuning",
        "id": "bd171311",
        "colab": {
          "base_uri": "https://localhost:8080/"
        },
        "outputId": "5bf8728a-cb0a-488b-bd8b-c4168fdac0da"
      },
      "outputs": [
        {
          "output_type": "stream",
          "name": "stdout",
          "text": [
            "iteration 0 / 1500: loss 784.140790\n",
            "iteration 100 / 1500: loss 473.844044\n",
            "iteration 200 / 1500: loss 287.109726\n",
            "iteration 300 / 1500: loss 174.689872\n",
            "iteration 400 / 1500: loss 106.429943\n",
            "iteration 500 / 1500: loss 65.201707\n",
            "iteration 600 / 1500: loss 40.325918\n",
            "iteration 700 / 1500: loss 25.134945\n",
            "iteration 800 / 1500: loss 16.022439\n",
            "iteration 900 / 1500: loss 10.566716\n",
            "iteration 1000 / 1500: loss 7.225725\n",
            "iteration 1100 / 1500: loss 5.303586\n",
            "iteration 1200 / 1500: loss 4.008022\n",
            "iteration 1300 / 1500: loss 3.199368\n",
            "iteration 1400 / 1500: loss 2.753789\n",
            "iteration 0 / 1500: loss 1540.716584\n",
            "iteration 100 / 1500: loss 564.747729\n",
            "iteration 200 / 1500: loss 208.053723\n",
            "iteration 300 / 1500: loss 77.538940\n",
            "iteration 400 / 1500: loss 29.729968\n",
            "iteration 500 / 1500: loss 12.274753\n",
            "iteration 600 / 1500: loss 5.920716\n",
            "iteration 700 / 1500: loss 3.488649\n",
            "iteration 800 / 1500: loss 2.672110\n",
            "iteration 900 / 1500: loss 2.362729\n",
            "iteration 1000 / 1500: loss 2.269377\n",
            "iteration 1100 / 1500: loss 2.271291\n",
            "iteration 1200 / 1500: loss 2.120105\n",
            "iteration 1300 / 1500: loss 2.241334\n",
            "iteration 1400 / 1500: loss 2.170322\n",
            "iteration 0 / 1500: loss 770.919242\n",
            "iteration 100 / 1500: loss 63.282054\n",
            "iteration 200 / 1500: loss 7.063454\n",
            "iteration 300 / 1500: loss 2.515980\n",
            "iteration 400 / 1500: loss 2.109914\n",
            "iteration 500 / 1500: loss 2.120271\n",
            "iteration 600 / 1500: loss 2.083506\n",
            "iteration 700 / 1500: loss 2.092966\n",
            "iteration 800 / 1500: loss 2.098178\n",
            "iteration 900 / 1500: loss 2.068794\n",
            "iteration 1000 / 1500: loss 2.120616\n",
            "iteration 1100 / 1500: loss 2.160409\n",
            "iteration 1200 / 1500: loss 2.088766\n",
            "iteration 1300 / 1500: loss 2.144882\n",
            "iteration 1400 / 1500: loss 2.102767\n",
            "iteration 0 / 1500: loss 1527.855144\n",
            "iteration 100 / 1500: loss 11.724342\n",
            "iteration 200 / 1500: loss 2.181842\n",
            "iteration 300 / 1500: loss 2.252100\n",
            "iteration 400 / 1500: loss 2.124624\n",
            "iteration 500 / 1500: loss 2.211088\n",
            "iteration 600 / 1500: loss 2.145872\n",
            "iteration 700 / 1500: loss 2.154355\n",
            "iteration 800 / 1500: loss 2.226210\n",
            "iteration 900 / 1500: loss 2.221139\n",
            "iteration 1000 / 1500: loss 2.166202\n",
            "iteration 1100 / 1500: loss 2.143122\n",
            "iteration 1200 / 1500: loss 2.208892\n",
            "iteration 1300 / 1500: loss 2.127658\n",
            "iteration 1400 / 1500: loss 2.140757\n",
            "lr 1.000000e-07 reg 2.500000e+04 train accuracy: 0.350673 val accuracy: 0.367000\n",
            "lr 1.000000e-07 reg 5.000000e+04 train accuracy: 0.330224 val accuracy: 0.343000\n",
            "lr 5.000000e-07 reg 2.500000e+04 train accuracy: 0.347714 val accuracy: 0.354000\n",
            "lr 5.000000e-07 reg 5.000000e+04 train accuracy: 0.319490 val accuracy: 0.336000\n",
            "best validation accuracy achieved during cross-validation: 0.367000\n"
          ]
        }
      ],
      "source": [
        "# Use the validation set to tune hyperparameters (regularization strength and\n",
        "# learning rate). You should experiment with different ranges for the learning\n",
        "# rates and regularization strengths; if you are careful you should be able to\n",
        "# get a classification accuracy of over 0.35 on the validation set.\n",
        "#使用验证集来调整超参数（正则化强度和\n",
        "#学习率）。你应该尝试不同的学习范围\n",
        "#速率和正则化强度；如果你小心，你应该能够\n",
        "#在验证集上获得超过0.35的分类准确率。\n",
        "\n",
        "from cs231n.classifiers import Softmax\n",
        "results = {}\n",
        "best_val = -1\n",
        "best_softmax = None\n",
        "\n",
        "################################################################################\n",
        "# TODO:                                                                        #\n",
        "# Use the validation set to set the learning rate and regularization strength. #\n",
        "# This should be identical to the validation that you did for the SVM; save    #\n",
        "# the best trained softmax classifer in best_softmax.\n",
        "#使用验证集设置学习率和正则化强度#\n",
        "#这应该与您对SVM所做的验证相同；保存#\n",
        "#bestsoftmax中训练最好的softmax分类器。              #\n",
        "################################################################################\n",
        "\n",
        "# Provided as a reference. You may or may not want to change these hyperparameters\n",
        "learning_rates = [1e-7, 5e-7]\n",
        "regularization_strengths = [2.5e4, 5e4]\n",
        "\n",
        "# *****START OF YOUR CODE (DO NOT DELETE/MODIFY THIS LINE)*****\n",
        "\n",
        "for lr in learning_rates:\n",
        "    for reg in regularization_strengths:\n",
        "        softmax=Softmax()\n",
        "        softmax.train(X_train,y_train,learning_rate=lr,reg=reg,num_iters=1500,verbose=True)\n",
        "        y_train_pred=softmax.predict(X_train)\n",
        "        y_val_pred=softmax.predict(X_val)\n",
        "        train_accuracy=np.mean(y_train_pred==y_train)\n",
        "        val_accuracy=np.mean(y_val_pred==y_val)\n",
        "        results[(lr,reg)]=train_accuracy,val_accuracy\n",
        "        if val_accuracy>best_val:\n",
        "            best_val=val_accuracy\n",
        "            best_softmax=softmax\n",
        "# *****END OF YOUR CODE (DO NOT DELETE/MODIFY THIS LINE)*****\n",
        "\n",
        "# Print out results.\n",
        "for lr, reg in sorted(results):\n",
        "    train_accuracy, val_accuracy = results[(lr, reg)]\n",
        "    print('lr %e reg %e train accuracy: %f val accuracy: %f' % (\n",
        "                lr, reg, train_accuracy, val_accuracy))\n",
        "\n",
        "print('best validation accuracy achieved during cross-validation: %f' % best_val)"
      ]
    },
    {
      "cell_type": "code",
      "execution_count": 29,
      "id": "f94a8f12",
      "metadata": {
        "test": "test",
        "id": "f94a8f12",
        "colab": {
          "base_uri": "https://localhost:8080/"
        },
        "outputId": "7c6354c0-cb0d-44c5-baa7-428d1fcc6eb3"
      },
      "outputs": [
        {
          "output_type": "stream",
          "name": "stdout",
          "text": [
            "softmax on raw pixels final test set accuracy: 0.370000\n"
          ]
        }
      ],
      "source": [
        "# evaluate on test set\n",
        "# Evaluate the best softmax on test set\n",
        "y_test_pred = best_softmax.predict(X_test)\n",
        "test_accuracy = np.mean(y_test == y_test_pred)\n",
        "print('softmax on raw pixels final test set accuracy: %f' % (test_accuracy, ))"
      ]
    },
    {
      "cell_type": "markdown",
      "id": "7e2112ee",
      "metadata": {
        "tags": [
          "pdf-inline"
        ],
        "id": "7e2112ee"
      },
      "source": [
        "**Inline Question 2** - *True or False*\n",
        "\n",
        "Suppose the overall training loss is defined as the sum of the per-datapoint loss over all training examples. It is possible to add a new datapoint to a training set that would leave the SVM loss unchanged, but this is not the case with the Softmax classifier loss.\n",
        "\n",
        "$\\color{blue}{\\textit Your Answer:}$\n",
        "\n",
        "\n",
        "$\\color{blue}{\\textit Your Explanation:}$\n",
        "\n",
        "假设总体训练损失被定义为所有训练示例中每个数据点损失的总和。可以在训练集中添加一个新的数据点，使SVM损失保持不变，但Softmax分类器损失的情况并非如此。\n",
        "\n",
        "您的回答：是的\n",
        "\n",
        "您的解释：因为svm只会惩罚那些超出范围的数据点 如果假如一个在合理范围内的数据点 则不会改变，但在softmax中每个数据点都会对相对概率有影响"
      ]
    },
    {
      "cell_type": "code",
      "execution_count": 30,
      "id": "86d86120",
      "metadata": {
        "id": "86d86120",
        "colab": {
          "base_uri": "https://localhost:8080/",
          "height": 528
        },
        "outputId": "6306517b-a549-4a3a-be35-52cb6df3fcff"
      },
      "outputs": [
        {
          "output_type": "display_data",
          "data": {
            "text/plain": [
              "<Figure size 1000x800 with 10 Axes>"
            ],
            "image/png": "[encoded data removed]"
          },
          "metadata": {}
        }
      ],
      "source": [
        "# Visualize the learned weights for each class\n",
        "w = best_softmax.W[:-1,:] # strip out the bias\n",
        "w = w.reshape(32, 32, 3, 10)\n",
        "\n",
        "w_min, w_max = np.min(w), np.max(w)\n",
        "\n",
        "classes = ['plane', 'car', 'bird', 'cat', 'deer', 'dog', 'frog', 'horse', 'ship', 'truck']\n",
        "for i in range(10):\n",
        "    plt.subplot(2, 5, i + 1)\n",
        "\n",
        "    # Rescale the weights to be between 0 and 255\n",
        "    wimg = 255.0 * (w[:, :, :, i].squeeze() - w_min) / (w_max - w_min)\n",
        "    plt.imshow(wimg.astype('uint8'))\n",
        "    plt.axis('off')\n",
        "    plt.title(classes[i])"
      ]
    },
    {
      "cell_type": "code",
      "execution_count": null,
      "id": "24688f99",
      "metadata": {
        "id": "24688f99"
      },
      "outputs": [],
      "source": []
    }
  ],
  "metadata": {
    "colab": {
      "provenance": []
    },
    "language_info": {
      "name": "python"
    },
    "kernelspec": {
      "name": "python3",
      "display_name": "Python 3"
    }
  },
  "nbformat": 4,
  "nbformat_minor": 5
}