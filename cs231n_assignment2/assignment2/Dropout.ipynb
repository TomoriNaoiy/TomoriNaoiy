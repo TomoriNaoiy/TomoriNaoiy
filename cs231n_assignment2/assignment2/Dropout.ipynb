{
  "cells": [
    {
      "cell_type": "code",
      "execution_count": 4,
      "id": "7bded7db",
      "metadata": {
        "colab": {
          "base_uri": "https://localhost:8080/"
        },
        "id": "7bded7db",
        "outputId": "47dcb5df-cb45-45f2-c089-8c1159f8616a"
      },
      "outputs": [
        {
          "output_type": "stream",
          "name": "stdout",
          "text": [
            "Drive already mounted at /content/drive; to attempt to forcibly remount, call drive.mount(\"/content/drive\", force_remount=True).\n",
            "/content/drive/My Drive/cs231n_assignment2/assignment2/cs231n/datasets\n",
            "/content/drive/My Drive/cs231n_assignment2/assignment2\n"
          ]
        }
      ],
      "source": [
        "# This mounts your Google Drive to the Colab VM.\n",
        "from google.colab import drive\n",
        "drive.mount('/content/drive')\n",
        "\n",
        "# TODO: Enter the foldername in your Drive where you have saved the unzipped\n",
        "# assignment folder, e.g. 'cs231n/assignments/assignment2/'\n",
        "FOLDERNAME = 'cs231n_assignment2/assignment2/'\n",
        "assert FOLDERNAME is not None, \"[!] Enter the foldername.\"\n",
        "\n",
        "# Now that we've mounted your Drive, this ensures that\n",
        "# the Python interpreter of the Colab VM can load\n",
        "# python files from within it.\n",
        "import sys\n",
        "sys.path.append('/content/drive/My Drive/{}'.format(FOLDERNAME))\n",
        "\n",
        "# This downloads the CIFAR-10 dataset to your Drive\n",
        "# if it doesn't already exist.\n",
        "%cd /content/drive/My\\ Drive/$FOLDERNAME/cs231n/datasets/\n",
        "!bash get_datasets.sh\n",
        "%cd /content/drive/My\\ Drive/$FOLDERNAME"
      ]
    },
    {
      "cell_type": "markdown",
      "id": "9d410444",
      "metadata": {
        "tags": [
          "pdf-title"
        ],
        "id": "9d410444"
      },
      "source": [
        "# Dropout\n",
        "Dropout [1] is a technique for regularizing neural networks by randomly setting some output activations to zero during the forward pass. In this exercise, you will implement a dropout layer and modify your fully connected network to optionally use dropout.\n",
        "\n",
        "[1] [Geoffrey E. Hinton et al, \"Improving neural networks by preventing co-adaptation of feature detectors\", arXiv 2012](https://arxiv.org/abs/1207.0580)\n",
        "\n",
        "退学\n",
        "Dropout[1]是一种通过在前向传递过程中将一些输出激活随机设置为零来规范神经网络的技术。在本练习中，您将实现一个Dropout层，并修改您的全连接网络以选择使用Dropout。\n",
        "\n",
        "[1] Geoffrey E.Hinton等人，“通过防止特征检测器的协同适应来改进神经网络”，arXiv 2012"
      ]
    },
    {
      "cell_type": "code",
      "execution_count": 2,
      "id": "b6e7f738",
      "metadata": {
        "tags": [
          "pdf-ignore"
        ],
        "colab": {
          "base_uri": "https://localhost:8080/"
        },
        "id": "b6e7f738",
        "outputId": "848e2a9b-c9ba-4b46-9000-045fc1e233a8"
      },
      "outputs": [
        {
          "output_type": "stream",
          "name": "stdout",
          "text": [
            "=========== You can safely ignore the message below if you are NOT working on ConvolutionalNetworks.ipynb ===========\n",
            "\tYou will need to compile a Cython extension for a portion of this assignment.\n",
            "\tThe instructions to do this will be given in a section of the notebook below.\n"
          ]
        }
      ],
      "source": [
        "# Setup cell.\n",
        "import time\n",
        "import numpy as np\n",
        "import matplotlib.pyplot as plt\n",
        "from cs231n.classifiers.fc_net import *\n",
        "from cs231n.data_utils import get_CIFAR10_data\n",
        "from cs231n.gradient_check import eval_numerical_gradient, eval_numerical_gradient_array\n",
        "from cs231n.solver import Solver\n",
        "\n",
        "%matplotlib inline\n",
        "plt.rcParams[\"figure.figsize\"] = (10.0, 8.0)  # Set default size of plots.\n",
        "plt.rcParams[\"image.interpolation\"] = \"nearest\"\n",
        "plt.rcParams[\"image.cmap\"] = \"gray\"\n",
        "\n",
        "%load_ext autoreload\n",
        "%autoreload 2\n",
        "\n",
        "def rel_error(x, y):\n",
        "    \"\"\"Returns relative error.\"\"\"\n",
        "    return np.max(np.abs(x - y) / (np.maximum(1e-8, np.abs(x) + np.abs(y))))"
      ]
    },
    {
      "cell_type": "code",
      "execution_count": 3,
      "id": "8e18dde7",
      "metadata": {
        "tags": [
          "pdf-ignore"
        ],
        "colab": {
          "base_uri": "https://localhost:8080/"
        },
        "id": "8e18dde7",
        "outputId": "3e496bb3-8349-48d3-b1b9-00cf2da7a2ea"
      },
      "outputs": [
        {
          "output_type": "stream",
          "name": "stdout",
          "text": [
            "X_train: (49000, 3, 32, 32)\n",
            "y_train: (49000,)\n",
            "X_val: (1000, 3, 32, 32)\n",
            "y_val: (1000,)\n",
            "X_test: (1000, 3, 32, 32)\n",
            "y_test: (1000,)\n"
          ]
        }
      ],
      "source": [
        "# Load the (preprocessed) CIFAR-10 data.\n",
        "data = get_CIFAR10_data()\n",
        "for k, v in list(data.items()):\n",
        "    print(f\"{k}: {v.shape}\")"
      ]
    },
    {
      "cell_type": "markdown",
      "id": "050d5e5a",
      "metadata": {
        "id": "050d5e5a"
      },
      "source": [
        "# Dropout: Forward Pass\n",
        "In the file `cs231n/layers.py`, implement the forward pass for dropout. Since dropout behaves differently during training and testing, make sure to implement the operation for both modes.\n",
        "\n",
        "Once you have done so, run the cell below to test your implementation."
      ]
    },
    {
      "cell_type": "code",
      "execution_count": 5,
      "id": "97c6428a",
      "metadata": {
        "colab": {
          "base_uri": "https://localhost:8080/"
        },
        "id": "97c6428a",
        "outputId": "272d16e8-833e-4626-842e-207cd6b7408c"
      },
      "outputs": [
        {
          "output_type": "stream",
          "name": "stdout",
          "text": [
            "Running tests with p =  0.25\n",
            "Mean of input:  10.000207878477502\n",
            "Mean of train-time output:  23.900176846195894\n",
            "Mean of test-time output:  10.000207878477502\n",
            "Fraction of train-time output set to zero:  0.402372\n",
            "Fraction of test-time output set to zero:  0.0\n",
            "\n",
            "Running tests with p =  0.4\n",
            "Mean of input:  10.000207878477502\n",
            "Mean of train-time output:  16.3409707222251\n",
            "Mean of test-time output:  10.000207878477502\n",
            "Fraction of train-time output set to zero:  0.346368\n",
            "Fraction of test-time output set to zero:  0.0\n",
            "\n",
            "Running tests with p =  0.7\n",
            "Mean of input:  10.000207878477502\n",
            "Mean of train-time output:  10.818329199440925\n",
            "Mean of test-time output:  10.000207878477502\n",
            "Fraction of train-time output set to zero:  0.242728\n",
            "Fraction of test-time output set to zero:  0.0\n",
            "\n"
          ]
        }
      ],
      "source": [
        "np.random.seed(231)\n",
        "x = np.random.randn(500, 500) + 10\n",
        "\n",
        "for p in [0.25, 0.4, 0.7]:\n",
        "    out, _ = dropout_forward(x, {'mode': 'train', 'p': p})\n",
        "    out_test, _ = dropout_forward(x, {'mode': 'test', 'p': p})\n",
        "\n",
        "    print('Running tests with p = ', p)\n",
        "    print('Mean of input: ', x.mean())\n",
        "    print('Mean of train-time output: ', out.mean())\n",
        "    print('Mean of test-time output: ', out_test.mean())\n",
        "    print('Fraction of train-time output set to zero: ', (out == 0).mean())\n",
        "    print('Fraction of test-time output set to zero: ', (out_test == 0).mean())\n",
        "    print()"
      ]
    },
    {
      "cell_type": "markdown",
      "id": "07bfbf24",
      "metadata": {
        "id": "07bfbf24"
      },
      "source": [
        "# Dropout: Backward Pass\n",
        "In the file `cs231n/layers.py`, implement the backward pass for dropout. After doing so, run the following cell to numerically gradient-check your implementation."
      ]
    },
    {
      "cell_type": "code",
      "execution_count": 6,
      "id": "7dda920c",
      "metadata": {
        "colab": {
          "base_uri": "https://localhost:8080/"
        },
        "id": "7dda920c",
        "outputId": "61eab6f9-1903-4d2d-b9ec-2c9456fc2ff4"
      },
      "outputs": [
        {
          "output_type": "stream",
          "name": "stdout",
          "text": [
            "dx relative error:  5.4456084347523126e-11\n"
          ]
        }
      ],
      "source": [
        "np.random.seed(231)\n",
        "x = np.random.randn(10, 10) + 10\n",
        "dout = np.random.randn(*x.shape)\n",
        "\n",
        "dropout_param = {'mode': 'train', 'p': 0.2, 'seed': 123}\n",
        "out, cache = dropout_forward(x, dropout_param)\n",
        "dx = dropout_backward(dout, cache)\n",
        "dx_num = eval_numerical_gradient_array(lambda xx: dropout_forward(xx, dropout_param)[0], x, dout)\n",
        "\n",
        "# Error should be around e-10 or less.\n",
        "print('dx relative error: ', rel_error(dx, dx_num))"
      ]
    },
    {
      "cell_type": "markdown",
      "id": "29f4e661",
      "metadata": {
        "tags": [
          "pdf-inline"
        ],
        "id": "29f4e661"
      },
      "source": [
        "## Inline Question 1:\n",
        "What happens if we do not divide the values being passed through inverse dropout by `p` in the dropout layer? Why does that happen?\n",
        "\n",
        "## Answer:\n",
        "[FILL THIS IN]\n",
        "\n",
        "如果在训练阶段不将保留的神经元的输出值除以 p，那么在训练阶段，保留的神经元的输出值会比不使用 Dropout 时小 p 倍。\n",
        "\n",
        "因为在实现中 有p的概率失活 也就是期望为pa 因此再输出是需要除以p"
      ]
    },
    {
      "cell_type": "markdown",
      "id": "d1fe69cc",
      "metadata": {
        "id": "d1fe69cc"
      },
      "source": [
        "# Fully Connected Networks with Dropout\n",
        "In the file `cs231n/classifiers/fc_net.py`, modify your implementation to use dropout. Specifically, if the constructor of the network receives a value that is not 1 for the `dropout_keep_ratio` parameter, then the net should add a dropout layer immediately after every ReLU nonlinearity. After doing so, run the following to numerically gradient-check your implementation."
      ]
    },
    {
      "cell_type": "code",
      "execution_count": 7,
      "id": "2d0bd04d",
      "metadata": {
        "colab": {
          "base_uri": "https://localhost:8080/"
        },
        "id": "2d0bd04d",
        "outputId": "4e70fe66-f2b1-41e7-e291-91fa58ea4d84"
      },
      "outputs": [
        {
          "output_type": "stream",
          "name": "stdout",
          "text": [
            "Running check with dropout =  1\n",
            "Initial loss:  2.3004790897684924\n",
            "W1 relative error: 1.48e-07\n",
            "W2 relative error: 2.21e-05\n",
            "W3 relative error: 3.53e-07\n",
            "b1 relative error: 5.38e-09\n",
            "b2 relative error: 2.09e-09\n",
            "b3 relative error: 5.80e-11\n",
            "\n",
            "Running check with dropout =  0.75\n",
            "Initial loss:  2.300877987113882\n",
            "W1 relative error: 2.20e-07\n",
            "W2 relative error: 4.06e-07\n",
            "W3 relative error: 2.93e-08\n",
            "b1 relative error: 3.30e-08\n",
            "b2 relative error: 8.88e-10\n",
            "b3 relative error: 1.15e-10\n",
            "\n",
            "Running check with dropout =  0.5\n",
            "Initial loss:  2.3019472250546933\n",
            "W1 relative error: 7.95e-08\n",
            "W2 relative error: 3.33e-08\n",
            "W3 relative error: 2.71e-08\n",
            "b1 relative error: 1.55e-09\n",
            "b2 relative error: 2.97e-09\n",
            "b3 relative error: 8.07e-11\n",
            "\n"
          ]
        }
      ],
      "source": [
        "np.random.seed(231)\n",
        "N, D, H1, H2, C = 2, 15, 20, 30, 10\n",
        "X = np.random.randn(N, D)\n",
        "y = np.random.randint(C, size=(N,))\n",
        "\n",
        "for dropout_keep_ratio in [1, 0.75, 0.5]:\n",
        "    print('Running check with dropout = ', dropout_keep_ratio)\n",
        "    model = FullyConnectedNet(\n",
        "        [H1, H2],\n",
        "        input_dim=D,\n",
        "        num_classes=C,\n",
        "        weight_scale=5e-2,\n",
        "        dtype=np.float64,\n",
        "        dropout_keep_ratio=dropout_keep_ratio,\n",
        "        seed=123\n",
        "    )\n",
        "\n",
        "    loss, grads = model.loss(X, y)\n",
        "    print('Initial loss: ', loss)\n",
        "\n",
        "    # Relative errors should be around e-6 or less.\n",
        "    # Note that it's fine if for dropout_keep_ratio=1 you have W2 error be on the order of e-5.\n",
        "    for name in sorted(grads):\n",
        "        f = lambda _: model.loss(X, y)[0]\n",
        "        grad_num = eval_numerical_gradient(f, model.params[name], verbose=False, h=1e-5)\n",
        "        print('%s relative error: %.2e' % (name, rel_error(grad_num, grads[name])))\n",
        "    print()"
      ]
    },
    {
      "cell_type": "markdown",
      "id": "4ec48fce",
      "metadata": {
        "id": "4ec48fce"
      },
      "source": [
        "# Regularization Experiment\n",
        "As an experiment, we will train a pair of two-layer networks on 500 training examples: one will use no dropout, and one will use a keep probability of 0.25. We will then visualize the training and validation accuracies of the two networks over time."
      ]
    },
    {
      "cell_type": "code",
      "execution_count": 8,
      "id": "0fcf0062",
      "metadata": {
        "scrolled": false,
        "colab": {
          "base_uri": "https://localhost:8080/"
        },
        "id": "0fcf0062",
        "outputId": "a9cc4445-d5b5-4536-bd65-abaad50a1b2e"
      },
      "outputs": [
        {
          "output_type": "stream",
          "name": "stdout",
          "text": [
            "1\n",
            "(Iteration 1 / 125) loss: 7.856643\n",
            "(Epoch 0 / 25) train acc: 0.260000; val_acc: 0.184000\n",
            "(Epoch 1 / 25) train acc: 0.416000; val_acc: 0.258000\n",
            "(Epoch 2 / 25) train acc: 0.482000; val_acc: 0.276000\n",
            "(Epoch 3 / 25) train acc: 0.532000; val_acc: 0.277000\n",
            "(Epoch 4 / 25) train acc: 0.600000; val_acc: 0.271000\n",
            "(Epoch 5 / 25) train acc: 0.708000; val_acc: 0.299000\n",
            "(Epoch 6 / 25) train acc: 0.722000; val_acc: 0.282000\n",
            "(Epoch 7 / 25) train acc: 0.832000; val_acc: 0.255000\n",
            "(Epoch 8 / 25) train acc: 0.880000; val_acc: 0.268000\n",
            "(Epoch 9 / 25) train acc: 0.902000; val_acc: 0.277000\n",
            "(Epoch 10 / 25) train acc: 0.898000; val_acc: 0.261000\n",
            "(Epoch 11 / 25) train acc: 0.924000; val_acc: 0.263000\n",
            "(Epoch 12 / 25) train acc: 0.960000; val_acc: 0.300000\n",
            "(Epoch 13 / 25) train acc: 0.972000; val_acc: 0.314000\n",
            "(Epoch 14 / 25) train acc: 0.972000; val_acc: 0.310000\n",
            "(Epoch 15 / 25) train acc: 0.974000; val_acc: 0.314000\n",
            "(Epoch 16 / 25) train acc: 0.994000; val_acc: 0.303000\n",
            "(Epoch 17 / 25) train acc: 0.970000; val_acc: 0.306000\n",
            "(Epoch 18 / 25) train acc: 0.992000; val_acc: 0.312000\n",
            "(Epoch 19 / 25) train acc: 0.990000; val_acc: 0.311000\n",
            "(Epoch 20 / 25) train acc: 0.990000; val_acc: 0.287000\n",
            "(Iteration 101 / 125) loss: 0.001695\n",
            "(Epoch 21 / 25) train acc: 0.994000; val_acc: 0.289000\n",
            "(Epoch 22 / 25) train acc: 0.998000; val_acc: 0.307000\n",
            "(Epoch 23 / 25) train acc: 0.994000; val_acc: 0.308000\n",
            "(Epoch 24 / 25) train acc: 0.998000; val_acc: 0.311000\n",
            "(Epoch 25 / 25) train acc: 0.992000; val_acc: 0.310000\n",
            "\n",
            "0.25\n",
            "(Iteration 1 / 125) loss: 28.103440\n",
            "(Epoch 0 / 25) train acc: 0.244000; val_acc: 0.203000\n",
            "(Epoch 1 / 25) train acc: 0.350000; val_acc: 0.216000\n",
            "(Epoch 2 / 25) train acc: 0.464000; val_acc: 0.244000\n",
            "(Epoch 3 / 25) train acc: 0.594000; val_acc: 0.300000\n",
            "(Epoch 4 / 25) train acc: 0.624000; val_acc: 0.266000\n",
            "(Epoch 5 / 25) train acc: 0.666000; val_acc: 0.243000\n",
            "(Epoch 6 / 25) train acc: 0.742000; val_acc: 0.307000\n",
            "(Epoch 7 / 25) train acc: 0.780000; val_acc: 0.304000\n",
            "(Epoch 8 / 25) train acc: 0.844000; val_acc: 0.301000\n",
            "(Epoch 9 / 25) train acc: 0.828000; val_acc: 0.297000\n",
            "(Epoch 10 / 25) train acc: 0.848000; val_acc: 0.283000\n",
            "(Epoch 11 / 25) train acc: 0.898000; val_acc: 0.287000\n",
            "(Epoch 12 / 25) train acc: 0.900000; val_acc: 0.279000\n",
            "(Epoch 13 / 25) train acc: 0.954000; val_acc: 0.304000\n",
            "(Epoch 14 / 25) train acc: 0.948000; val_acc: 0.312000\n",
            "(Epoch 15 / 25) train acc: 0.952000; val_acc: 0.310000\n",
            "(Epoch 16 / 25) train acc: 0.932000; val_acc: 0.303000\n",
            "(Epoch 17 / 25) train acc: 0.954000; val_acc: 0.319000\n",
            "(Epoch 18 / 25) train acc: 0.944000; val_acc: 0.312000\n",
            "(Epoch 19 / 25) train acc: 0.966000; val_acc: 0.312000\n",
            "(Epoch 20 / 25) train acc: 0.956000; val_acc: 0.310000\n",
            "(Iteration 101 / 125) loss: 2.135379\n",
            "(Epoch 21 / 25) train acc: 0.954000; val_acc: 0.300000\n",
            "(Epoch 22 / 25) train acc: 0.982000; val_acc: 0.316000\n",
            "(Epoch 23 / 25) train acc: 0.988000; val_acc: 0.334000\n",
            "(Epoch 24 / 25) train acc: 0.974000; val_acc: 0.323000\n",
            "(Epoch 25 / 25) train acc: 0.984000; val_acc: 0.298000\n",
            "\n"
          ]
        }
      ],
      "source": [
        "# Train two identical nets, one with dropout and one without.\n",
        "np.random.seed(231)\n",
        "num_train = 500\n",
        "small_data = {\n",
        "    'X_train': data['X_train'][:num_train],\n",
        "    'y_train': data['y_train'][:num_train],\n",
        "    'X_val': data['X_val'],\n",
        "    'y_val': data['y_val'],\n",
        "}\n",
        "\n",
        "solvers = {}\n",
        "dropout_choices = [1, 0.25]\n",
        "for dropout_keep_ratio in dropout_choices:\n",
        "    model = FullyConnectedNet(\n",
        "        [500],\n",
        "        dropout_keep_ratio=dropout_keep_ratio\n",
        "    )\n",
        "    print(dropout_keep_ratio)\n",
        "\n",
        "    solver = Solver(\n",
        "        model,\n",
        "        small_data,\n",
        "        num_epochs=25,\n",
        "        batch_size=100,\n",
        "        update_rule='adam',\n",
        "        optim_config={'learning_rate': 5e-4,},\n",
        "        verbose=True,\n",
        "        print_every=100\n",
        "    )\n",
        "    solver.train()\n",
        "    solvers[dropout_keep_ratio] = solver\n",
        "    print()"
      ]
    },
    {
      "cell_type": "code",
      "execution_count": 9,
      "id": "abbdd52f",
      "metadata": {
        "colab": {
          "base_uri": "https://localhost:8080/",
          "height": 849
        },
        "id": "abbdd52f",
        "outputId": "a186e537-bd08-4697-9c36-efb35bab5a3e"
      },
      "outputs": [
        {
          "output_type": "display_data",
          "data": {
            "text/plain": [
              "<Figure size 1500x1500 with 2 Axes>"
            ],
            "image/png": "[encoded data removed]"
          },
          "metadata": {}
        }
      ],
      "source": [
        "# Plot train and validation accuracies of the two models.\n",
        "train_accs = []\n",
        "val_accs = []\n",
        "for dropout_keep_ratio in dropout_choices:\n",
        "    solver = solvers[dropout_keep_ratio]\n",
        "    train_accs.append(solver.train_acc_history[-1])\n",
        "    val_accs.append(solver.val_acc_history[-1])\n",
        "\n",
        "plt.subplot(3, 1, 1)\n",
        "for dropout_keep_ratio in dropout_choices:\n",
        "    plt.plot(\n",
        "        solvers[dropout_keep_ratio].train_acc_history, 'o', label='%.2f dropout_keep_ratio' % dropout_keep_ratio)\n",
        "plt.title('Train accuracy')\n",
        "plt.xlabel('Epoch')\n",
        "plt.ylabel('Accuracy')\n",
        "plt.legend(ncol=2, loc='lower right')\n",
        "\n",
        "plt.subplot(3, 1, 2)\n",
        "for dropout_keep_ratio in dropout_choices:\n",
        "    plt.plot(\n",
        "        solvers[dropout_keep_ratio].val_acc_history, 'o', label='%.2f dropout_keep_ratio' % dropout_keep_ratio)\n",
        "plt.title('Val accuracy')\n",
        "plt.xlabel('Epoch')\n",
        "plt.ylabel('Accuracy')\n",
        "plt.legend(ncol=2, loc='lower right')\n",
        "\n",
        "plt.gcf().set_size_inches(15, 15)\n",
        "plt.show()"
      ]
    },
    {
      "cell_type": "markdown",
      "id": "68f32fdf",
      "metadata": {
        "tags": [
          "pdf-inline"
        ],
        "id": "68f32fdf"
      },
      "source": [
        "## Inline Question 2:\n",
        "Compare the validation and training accuracies with and without dropout -- what do your results suggest about dropout as a regularizer?\n",
        "\n",
        "## Answer:\n",
        "[FILL THIS IN]\n",
        "使用随即失活 在测试集上的效果会比不使用效果更好 因为不使用可能在训练集上会出现过拟合 而使用随机失活后泛化能力提高 可能会有更高的准确率"
      ]
    }
  ],
  "metadata": {
    "colab": {
      "provenance": []
    },
    "language_info": {
      "name": "python"
    },
    "kernelspec": {
      "name": "python3",
      "display_name": "Python 3"
    }
  },
  "nbformat": 4,
  "nbformat_minor": 5
}